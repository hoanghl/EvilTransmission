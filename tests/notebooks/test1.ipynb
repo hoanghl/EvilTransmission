{
 "cells": [
  {
   "cell_type": "code",
   "execution_count": 1,
   "metadata": {},
   "outputs": [
    {
     "name": "stdout",
     "output_type": "stream",
     "text": [
      "/Users/macos/Projects/xButler/EvilTransmission/eviltrans-feat_extract\n"
     ]
    }
   ],
   "source": [
    "%cd ../../\n",
    "\n",
    "%load_ext autoreload\n",
    "%autoreload 2"
   ]
  },
  {
   "cell_type": "code",
   "execution_count": 4,
   "metadata": {},
   "outputs": [],
   "source": [
    "import torch\n",
    "from PIL import Image\n",
    "import numpy as np\n",
    "import cv2\n",
    "from torchvision import transforms\n",
    "\n",
    "from src.handlers import utils"
   ]
  },
  {
   "cell_type": "code",
   "execution_count": 5,
   "metadata": {},
   "outputs": [],
   "source": [
    "transform = transforms.Compose(\n",
    "    [\n",
    "        transforms.Resize((224, 224)),\n",
    "        transforms.ToTensor(),\n",
    "        transforms.Normalize(\n",
    "            mean=[0.4914, 0.4822, 0.4465],\n",
    "            std=[0.2023, 0.1994, 0.2010],\n",
    "        ),\n",
    "    ]\n",
    ")\n"
   ]
  },
  {
   "cell_type": "code",
   "execution_count": 6,
   "metadata": {},
   "outputs": [],
   "source": [
    "path = \"/Users/macos/Downloads/file_example_MOV_1280_1_4MB.mov\"\n",
    "\n",
    "cap = cv2.VideoCapture(path)\n",
    "\n",
    "frames = []\n",
    "n = 0\n",
    "while cap.isOpened():\n",
    "    if n % 10 == 0:\n",
    "        _, frame = cap.read()\n",
    "        if frame is None:\n",
    "            break\n",
    "\n",
    "        img = Image.fromarray(frame)\n",
    "        img_trans = transform(img)[None, :].numpy()\n",
    "\n",
    "        frames.append(img_trans)\n",
    "        # feat = utils.extract_feat(frame)\n",
    "\n",
    "    n = (n + 1) % 10\n",
    "\n",
    "cap.release()"
   ]
  },
  {
   "cell_type": "code",
   "execution_count": 11,
   "metadata": {},
   "outputs": [
    {
     "data": {
      "text/plain": [
       "(901, 3, 224, 224)"
      ]
     },
     "execution_count": 11,
     "metadata": {},
     "output_type": "execute_result"
    }
   ],
   "source": [
    "a = np.concatenate(frames, axis=0)\n",
    "a.shape"
   ]
  },
  {
   "cell_type": "code",
   "execution_count": 12,
   "metadata": {},
   "outputs": [],
   "source": [
    "ort_inps = {utils.ort_session.get_inputs()[0].name: a}\n",
    "ort_outs = utils.ort_session.run(None, ort_inps)\n"
   ]
  },
  {
   "cell_type": "code",
   "execution_count": 17,
   "metadata": {},
   "outputs": [
    {
     "data": {
      "text/plain": [
       "(2048,)"
      ]
     },
     "execution_count": 17,
     "metadata": {},
     "output_type": "execute_result"
    }
   ],
   "source": [
    "np.mean(ort_outs[0], axis=0).shape"
   ]
  },
  {
   "cell_type": "code",
   "execution_count": 14,
   "metadata": {},
   "outputs": [
    {
     "data": {
      "text/plain": [
       "tensor([1.0000])"
      ]
     },
     "execution_count": 14,
     "metadata": {},
     "output_type": "execute_result"
    }
   ],
   "source": [
    "path1 = \"/Users/macos/.config/iterm2/naomi_pic/IMG_20210604_000806_995.jpg\"\n",
    "path2 = \"/Users/macos/.config/iterm2/naomi_pic/IMG_20210604_000808_719.jpg\"\n",
    "\n",
    "with open(path1, 'rb') as fp1, open(path2, 'rb') as fp2:\n",
    "    file1, file2 = fp1.read(), fp2.read() \n",
    "\n",
    "torch.nn.functional.cosine_sim ilarity(\n",
    "    torch.tensor(utils.extract_feat(file1)),\n",
    "    torch.tensor(utils.extract_feat(file2))\n",
    ")"
   ]
  },
  {
   "cell_type": "code",
   "execution_count": 15,
   "metadata": {},
   "outputs": [
    {
     "data": {
      "text/plain": [
       "[array([0.58516993, 0.97659382, 0.7380996 , 0.12003575, 0.87701033]),\n",
       " array([0.89098443, 0.6549494 , 0.52801826, 0.50884251, 0.52136998]),\n",
       " array([0.76238492, 0.10880999, 0.10022516, 0.08172431, 0.09084703]),\n",
       " array([0.17545779, 0.45657156, 0.91978557, 0.59043415, 0.76246391])]"
      ]
     },
     "execution_count": 15,
     "metadata": {},
     "output_type": "execute_result"
    }
   ],
   "source": [
    "a = [\n",
    "    np.random.rand(5)\n",
    "    for _ in range(4)\n",
    "]\n",
    "\n",
    "a"
   ]
  },
  {
   "cell_type": "code",
   "execution_count": 17,
   "metadata": {},
   "outputs": [
    {
     "data": {
      "text/plain": [
       "array([0.65938189, 0.62083292, 0.22879828, 0.5809426 ])"
      ]
     },
     "execution_count": 17,
     "metadata": {},
     "output_type": "execute_result"
    }
   ],
   "source": [
    "np.mean(a, axis=-1)"
   ]
  }
 ],
 "metadata": {
  "kernelspec": {
   "display_name": "eviltrans-feat_extract",
   "language": "python",
   "name": "python3"
  },
  "language_info": {
   "codemirror_mode": {
    "name": "ipython",
    "version": 3
   },
   "file_extension": ".py",
   "mimetype": "text/x-python",
   "name": "python",
   "nbconvert_exporter": "python",
   "pygments_lexer": "ipython3",
   "version": "3.10.10"
  },
  "orig_nbformat": 4
 },
 "nbformat": 4,
 "nbformat_minor": 2
}
